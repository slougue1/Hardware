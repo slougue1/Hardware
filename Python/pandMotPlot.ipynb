#!/usr/bin/env python
# coding: utf-8
# # INST 126 – Introduction to Programming for Information Science
# # HW: Pandas and Matplotlib
# In[ ]:
#SAKINA LOUGUE
# You'll need the file `Salaries.csv`, which contains data about 2008-09 nine-month
academic salary for Assistant Professors, Associate Professors and Professors in a
college in the U.S.. Make sure it's in the same directory as this python notebook.
More info about the dataset is here:
https://vincentarelbundock.github.io/Rdatasets/doc/carData/Salaries.html
# ## Exercise 1: Import the pandas library and read the dataset
#
# Import the pandas library, then use the `read_csv()` function to read the
`Salaries.csv` dataset, and put the resulting dataframe in the variable `salaries`.
Print a quick summary of how many variables (and observations) are in the dataset,
using the `.count()` dataframe method.
# In[6]:
# Your code here
import pandas as pd
salaries = pd.read_csv("Salaries.csv")
salaries.count()
# "Pretty print" the first 25 rows of the dataframe using `.head()` method. You'll
need to pass in 25 as a parameter to the `.head()` method.
# In[43]:
# Your code here
salaries.head(25)
# ### Exercise 2: Summarize the data
# Get some quick stats with the `.describe()` method.
# In[2]:
# Your code here
import pandas as pd
salaries = pd.read_csv("Salaries.csv")
salaries.count()
salaries.describe()
# `.describe()` only gives you stats for quantitative values. Let's find out how
many observations we have for the `rank` and `sex` variables.
#
# First, use the `.value_counts()` method to get the count of each unique value in
the **rank** column. Examples here:
https://leportella.com/cheatlist/2017/11/22/pandas-cheat-list.html (documentation
here:
https://pandas.pydata.org/pandas-docs/stable/generated/pandas.Series.value_counts.h
tml)
# In[9]:
# Your code here
salaries["rank"].value_counts()
# Now, use the `.value_counts()` method to get the count of each unique value in
the **sex** column.
# In[8]:
# Your code here
salaries["sex"].value_counts()
# ### Exercise 3: Remove rows with missing data
# You need to use the `dropna()` method of a dataframe. More info here:
https://pandas.pydata.org/pandas-docs/stable/generated/pandas.DataFrame.dropna.html
#
# Drop all rows that have missing data in any of the columns. Assign the resulting
dataframe to the variable `salaries_nonull`. Print the `.count()` summary of the
dataframe to confirm that you've removed missing data (the counts should be the
same for all columns)
# In[13]:
# Your code here
import pandas as pd
salaries = pd.read_csv("Salaries.csv")
salaries_nonull = salaries.dropna()
salaries_nonull.count()
# ### Exercise 4: Plot salary as a function of yrs.since.phd
# Use the `.scatter()` function to make a scatterplot with `yrs.since.phd` on the x
axis and `salary` on the y-axis. Make sure you use the `salaries_nonull` dataframe
you made in the previous step.
#
# Add "Salary vs. Yrs since PhD" as a title for the plot, and label the x-axis
"Years since PhD" and the y-axis "Annual Salary". You'll need the `.title()`,
`.xlabel()`, and `ylabel()` methods. (TIP: try using tab autocomplete to explore
what methods you have with plt; to try this, type plt. then hit tab).
# In[22]:
# import the matplotlib pyplot library as plt
import matplotlib.pyplot as plt
get_ipython().run_line_magic('pylab', 'inline')
# Your code here
salaries = pd.read_csv("Salaries.csv")
salaries_nonull = salaries.dropna()
#salaries_nonull.count()
#salaries = salaries.reset_index()
plt.scatter(salaries_nonull["yrs.since.phd"], salaries_nonull["salary"])
plt.title("Salary vs. Yrs since PhD", fontsize = 17)
# other code below here
plt.xlabel("Years since PhD")
plt.ylabel("Annual Salary")
# ### Exercise 5: Summarize and plot the data by rank
# Use the `groupby` function to summarize the data by the `rank` variable, set the
parameter `as_index` to `False` (so we can use the grouping variable for plotting;
more on this later), and make sure the data in each group is summarized by the mean
of the values (by chaining it with the `.mean()` method. Google these methods/terms
to find the docs! Assign the resulting dataframe to the variable `salaries_byRank`,
then call the variable to display the dataframe.
# In[28]:
# Your code here
import matplotlib.pyplot as plt
get_ipython().run_line_magic('pylab', 'inline')
# Your code here
salaries = pd.read_csv("Salaries.csv")
salaries_nonull = salaries.dropna()
salaries_byRank = salaries_nonull.groupby('rank',as_index=False).mean()
print(salaries_byRank)
# Now use the `bar()` function from the matplotlib library to plot a bar graph of
the average salary by rank. Docs here:
https://matplotlib.org/api/_as_gen/matplotlib.pyplot.bar.html
#
# Add "Salary by Rank" as a title for the plot, and label the x-axis "Rank" and the
y-axis "Annual Salary". You'll need the `.title()`, `.xlabel()`, and `ylabel()`
methods.
# In[37]:
x = salaries_byRank['rank']
y = salaries_byRank['salary']
# other code below here
fig, ax = plt.subplots()
plt.xlabel('Rank')
plt.ylabel('Annual Salary', fontsize = 12)
plt.title('Salary by rank', fontsize = 10)
plt.bar(x,y)
plt.show()
# ### Exercise 6: Make the same plot (salaries by rank), but only for the "A"
discipline, and then only for the "B" discipline
# You'll make 2 dataframes, one filtered from `salaries_nonull` to only have rows
where `discipline == A` (store the resulting dataframe in the variable
`salaries_A`), and then one filtered from `salaries_nonull` to only have rows where
`discipline == B` (store the resulting dataframe in the variable `salaries_B`). You
can use the `.query()` or `.loc` methods, whichever you're more comfortable with.
#
# After that, for each dataframe, you can do what you did in Exercise 5: use the
`groupby` function to summarize the filtered dataframe by the `rank` variable, set
the parameter `as_index` to `False` (so we can use the grouping variable for
plotting; more on this later), and make sure the data in each group is summarized
by the mean of the values (by chaining it with the `.mean()` method. Assign the
resulting dataframes to `salaries_byRank_A` (and then `salaries_byRank_B` when you
do this for the filtered dataframe with only the B discipline), then call the
variable to display the dataframe. Then use the `bar()` function from the
matplotlib library to plot a bar graph of the average salary by rank. Add "Salary
by Rank (A discipline)" (or "Salary by Rank (B discipline)") as a title for the
plot, and label the x-axis "Rank" and the y-axis "Annual Salary". You'll need the
`.title()`, `.xlabel()`, and `ylabel()` methods.
#
# First do this for the A discipline.
# In[41]:
# Your code here
import pandas as pd
import matplotlib.pyplot as plt
salaries = pd.read_csv('salaries.csv') #read the excel file
salaries_A = salaries.query("discipline == 'A'", inplace = False)
salaries_byRank_A = salaries_A.groupby('rank',as_index = False).mean()
x = salaries_byRank_A['rank']
y = salaries_byRank_A['salary']
plt.bar(x,y)
plt.title('Salary by Rank (A discipline)')
plt.xlabel('Rank')
plt.ylabel('Annual Salary')
plt.show()
# Then for the B discipline.
# In[42]:
# Your code here
import pandas as pd
import matplotlib.pyplot as plt
salaries = pd.read_csv('salaries.csv') #read the excel file
salaries_B = salaries.query("discipline == 'B'", inplace = False)
salaries_byRank_B = salaries_A.groupby('rank',as_index = False).mean()
x = salaries_byRank_B['rank']
y = salaries_byRank_B['salary']
plt.bar(x,y)
plt.title('Salary by Rank(B discipline)')
plt.xlabel('Rank')
plt.ylabel('Annual Salary')
plt.show()
# In[ ]:
